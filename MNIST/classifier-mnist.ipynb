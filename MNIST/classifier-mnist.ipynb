{
  "nbformat": 4,
  "nbformat_minor": 0,
  "metadata": {
    "kernelspec": {
      "display_name": "Python 3",
      "language": "python",
      "name": "python3"
    },
    "language_info": {
      "codemirror_mode": {
        "name": "ipython",
        "version": 3
      },
      "file_extension": ".py",
      "mimetype": "text/x-python",
      "name": "python",
      "nbconvert_exporter": "python",
      "pygments_lexer": "ipython3",
      "version": "3.7.7"
    },
    "colab": {
      "name": "classifier.ipynb",
      "provenance": [],
      "collapsed_sections": []
    },
    "accelerator": "GPU"
  },
  "cells": [
    {
      "cell_type": "markdown",
      "metadata": {
        "id": "4RFoJGkosib1",
        "colab_type": "text"
      },
      "source": [
        "## MINST and Fashion-MINST\n",
        "\n",
        "In this notebook, we will use MNIST and FashionMNIST datasets from pytorch lilbrary. This data which will be trained using self-built model CNN."
      ]
    },
    {
      "cell_type": "code",
      "metadata": {
        "id": "1XoTehHnsib9",
        "colab_type": "code",
        "colab": {}
      },
      "source": [
        "# Importing the libraries\n",
        "import torch\n",
        "import torchvision\n",
        "from torchvision.datasets import MNIST, FashionMNIST\n",
        "from torch.utils.data import DataLoader\n",
        "from torchvision import transforms\n",
        "\n",
        "# Transforms and load the datasets for train and test set data\n",
        "data_transforms = transforms.Compose([transforms.ToTensor(),\n",
        "                                     transforms.Normalize(\n",
        "                                     (0.5),(0.5))\n",
        "                                    ])\n",
        "train_data = MNIST(root='./data', train=True, download=True, transform=data_transforms)\n",
        "test_data = MNIST(root='./data', train=False, download=True, transform=data_transforms)\n",
        "\n",
        "batch_size = 20\n",
        "trainloader = DataLoader(train_data, batch_size=batch_size, shuffle=True)\n",
        "testloader = DataLoader(train_data, batch_size=batch_size, shuffle=True)"
      ],
      "execution_count": 0,
      "outputs": []
    },
    {
      "cell_type": "code",
      "metadata": {
        "id": "4HS_6iA6tU8a",
        "colab_type": "code",
        "colab": {}
      },
      "source": [
        "classes = train_data.classes\n",
        "\n",
        "device = torch.device(\"cuda:0\" if torch.cuda.is_available() else \"cpu\")"
      ],
      "execution_count": 0,
      "outputs": []
    },
    {
      "cell_type": "markdown",
      "metadata": {
        "id": "PPfvvOazsicW",
        "colab_type": "text"
      },
      "source": [
        "### Visualize some training data\n",
        "\n",
        "Let's visualize random image per one batch"
      ]
    },
    {
      "cell_type": "code",
      "metadata": {
        "id": "ka_OrFRfsicg",
        "colab_type": "code",
        "colab": {
          "base_uri": "https://localhost:8080/",
          "height": 187
        },
        "outputId": "de34c57f-ec39-4b4d-9c6f-1829159deaaf"
      },
      "source": [
        "import numpy as np\n",
        "import matplotlib.pyplot as plt\n",
        "\n",
        "%matplotlib inline\n",
        "\n",
        "dataiter = iter(trainloader)\n",
        "images,labels = dataiter.next()\n",
        "images = images.numpy()\n",
        "\n",
        "fig = plt.figure(figsize=(25,4))\n",
        "for idx in np.arange(batch_size):\n",
        "    ax = plt.subplot(2, batch_size/2, idx+1, xticks=[], yticks=[])\n",
        "    ax.imshow(np.squeeze(images[idx]), cmap='gray')\n",
        "    ax.set_title(classes[labels[idx]])\n",
        "    "
      ],
      "execution_count": 3,
      "outputs": [
        {
          "output_type": "display_data",
          "data": {
            "image/png": "[encoded data removed]",
            "text/plain": [
              "<Figure size 1800x288 with 20 Axes>"
            ]
          },
          "metadata": {
            "tags": []
          }
        }
      ]
    },
    {
      "cell_type": "markdown",
      "metadata": {
        "id": "YRnzB-VUsicx",
        "colab_type": "text"
      },
      "source": [
        "### Define the network\n",
        "\n",
        "This network consists of two convolutionl layers and two hidden layers. You can make deep with add more convolutional layers along with the hidden layers.\n",
        "\n",
        "Maxpool : Take the important features by extracting the maximum value in certain pixel in the feature vector. \n",
        "\n",
        "Drop : Disable certain node in the hidden layer with certain probbility value, we take p = 0.3\n"
      ]
    },
    {
      "cell_type": "code",
      "metadata": {
        "id": "nYkHR3EauHt4",
        "colab_type": "code",
        "colab": {}
      },
      "source": [
        "import torch.nn as nn\n",
        "import torch.nn.functional as F\n",
        "\n",
        "class CNN(nn.Module):\n",
        "    \n",
        "    def __init__(self):\n",
        "        super(CNN,self).__init__()\n",
        "        \n",
        "        self.conv1 = nn.Conv2d(1, 16, 3)\n",
        "        self.conv2 = nn.Conv2d(16, 32, 3)\n",
        "        self.pool = nn.MaxPool2d(2,2)\n",
        "        self.fc1 = nn.Linear(32 * 5 * 5, 120)\n",
        "        self.fc2 = nn.Linear(120, 64)\n",
        "        self.fc3 = nn.Linear(64,10)\n",
        "\n",
        "        self.drop = nn.Dropout(p=0.3)\n",
        "\n",
        "    def forward(self,x):\n",
        "        x = self.pool(F.relu(self.conv1(x)))\n",
        "        x = self.pool(F.relu(self.conv2(x)))\n",
        "        x = x.view(x.size(0),-1)\n",
        "        x = self.drop(F.relu(self.fc1(x)))\n",
        "        x = self.drop(F.relu(self.fc2(x)))\n",
        "        x = self.fc3(x)\n",
        "\n",
        "        return F.log_softmax(x,dim=1)"
      ],
      "execution_count": 0,
      "outputs": []
    },
    {
      "cell_type": "code",
      "metadata": {
        "id": "XM5-mOP1uqPX",
        "colab_type": "code",
        "colab": {}
      },
      "source": [
        "# Create the optimizer and loss \n",
        "\n",
        "import torch.optim as optim\n",
        "\n",
        "net = CNN()\n",
        "net = net.to(device)\n",
        "\n",
        "criterion = nn.CrossEntropyLoss()\n",
        "optimizer = optim.Adam(net.parameters(),lr=0.0001)"
      ],
      "execution_count": 0,
      "outputs": []
    },
    {
      "cell_type": "code",
      "metadata": {
        "id": "d8tmiC2R1EVZ",
        "colab_type": "code",
        "colab": {}
      },
      "source": [
        "def train_net(model, trainloader, num_epoch=3, print_every=40):\n",
        "\n",
        "    train_loss = 0.\n",
        "    step = 0.\n",
        "    ls = []\n",
        "    for epoch in range(num_epoch):\n",
        "        model.train()\n",
        "        for image, label in trainloader:\n",
        "            step += 1\n",
        "            image = image.to(device)\n",
        "            label = label.to(device)\n",
        "\n",
        "            optimizer.zero_grad()\n",
        "\n",
        "            output = model(image)\n",
        "            loss = criterion(output,label)\n",
        "\n",
        "            loss.backward()\n",
        "            optimizer.step()\n",
        "            train_loss += loss.item()\n",
        "            if step % print_every == 0:\n",
        "                ls.append(train_loss/print_every)\n",
        "\n",
        "                print('Epoch : {}/{}..'.format(epoch+1,num_epoch),\n",
        "                      'Train loss : {:.3f}..'.format(train_loss/print_every))\n",
        "                \n",
        "                train_loss = 0.\n",
        "\n",
        "                model.train()\n",
        "    print('Finished training')\n",
        "    cache = {'model':model,'loss':ls}\n",
        "    return cache"
      ],
      "execution_count": 0,
      "outputs": []
    },
    {
      "cell_type": "code",
      "metadata": {
        "id": "Ixxdbg7c2PGG",
        "colab_type": "code",
        "colab": {
          "base_uri": "https://localhost:8080/",
          "height": 908
        },
        "outputId": "93273ff5-fe3d-4689-ea11-f47332a5fa72"
      },
      "source": [
        "cache = train_net(net, trainloader, num_epoch=15, print_every=1000)"
      ],
      "execution_count": 7,
      "outputs": [
        {
          "output_type": "stream",
          "text": [
            "Epoch : 1/15.. Train loss : 1.191..\n",
            "Epoch : 1/15.. Train loss : 0.440..\n",
            "Epoch : 1/15.. Train loss : 0.293..\n",
            "Epoch : 2/15.. Train loss : 0.230..\n",
            "Epoch : 2/15.. Train loss : 0.194..\n",
            "Epoch : 2/15.. Train loss : 0.172..\n",
            "Epoch : 3/15.. Train loss : 0.148..\n",
            "Epoch : 3/15.. Train loss : 0.136..\n",
            "Epoch : 3/15.. Train loss : 0.127..\n",
            "Epoch : 4/15.. Train loss : 0.115..\n",
            "Epoch : 4/15.. Train loss : 0.108..\n",
            "Epoch : 4/15.. Train loss : 0.103..\n",
            "Epoch : 5/15.. Train loss : 0.100..\n",
            "Epoch : 5/15.. Train loss : 0.091..\n",
            "Epoch : 5/15.. Train loss : 0.086..\n",
            "Epoch : 6/15.. Train loss : 0.085..\n",
            "Epoch : 6/15.. Train loss : 0.077..\n",
            "Epoch : 6/15.. Train loss : 0.081..\n",
            "Epoch : 7/15.. Train loss : 0.074..\n",
            "Epoch : 7/15.. Train loss : 0.074..\n",
            "Epoch : 7/15.. Train loss : 0.068..\n",
            "Epoch : 8/15.. Train loss : 0.066..\n",
            "Epoch : 8/15.. Train loss : 0.073..\n",
            "Epoch : 8/15.. Train loss : 0.063..\n",
            "Epoch : 9/15.. Train loss : 0.061..\n",
            "Epoch : 9/15.. Train loss : 0.064..\n",
            "Epoch : 9/15.. Train loss : 0.060..\n",
            "Epoch : 10/15.. Train loss : 0.058..\n",
            "Epoch : 10/15.. Train loss : 0.056..\n",
            "Epoch : 10/15.. Train loss : 0.057..\n",
            "Epoch : 11/15.. Train loss : 0.057..\n",
            "Epoch : 11/15.. Train loss : 0.049..\n",
            "Epoch : 11/15.. Train loss : 0.050..\n",
            "Epoch : 12/15.. Train loss : 0.050..\n",
            "Epoch : 12/15.. Train loss : 0.054..\n",
            "Epoch : 12/15.. Train loss : 0.049..\n",
            "Epoch : 13/15.. Train loss : 0.046..\n",
            "Epoch : 13/15.. Train loss : 0.043..\n",
            "Epoch : 13/15.. Train loss : 0.042..\n",
            "Epoch : 14/15.. Train loss : 0.042..\n",
            "Epoch : 14/15.. Train loss : 0.040..\n",
            "Epoch : 14/15.. Train loss : 0.046..\n",
            "Epoch : 15/15.. Train loss : 0.038..\n",
            "Epoch : 15/15.. Train loss : 0.041..\n",
            "Epoch : 15/15.. Train loss : 0.041..\n",
            "Finished training\n"
          ],
          "name": "stdout"
        }
      ]
    },
    {
      "cell_type": "code",
      "metadata": {
        "id": "i2eda9ki2Wvw",
        "colab_type": "code",
        "colab": {
          "base_uri": "https://localhost:8080/",
          "height": 298
        },
        "outputId": "ab8c59c6-9fbb-403e-c489-7fafaad55f49"
      },
      "source": [
        "# Visualize the loss \n",
        "loss = cache['loss']\n",
        "\n",
        "plt.plot(loss)\n",
        "plt.xlabel('1000/batches')\n",
        "plt.ylabel('Loss')"
      ],
      "execution_count": 9,
      "outputs": [
        {
          "output_type": "execute_result",
          "data": {
            "text/plain": [
              "Text(0, 0.5, 'Loss')"
            ]
          },
          "metadata": {
            "tags": []
          },
          "execution_count": 9
        },
        {
          "output_type": "display_data",
          "data": {
            "image/png": "[encoded data removed]",
            "text/plain": [
              "<Figure size 432x288 with 1 Axes>"
            ]
          },
          "metadata": {
            "tags": [],
            "needs_background": "light"
          }
        }
      ]
    },
    {
      "cell_type": "code",
      "metadata": {
        "id": "ia0TVbuU4qBR",
        "colab_type": "code",
        "colab": {}
      },
      "source": [
        "def validation(model, testloader, classes, batch_size):\n",
        "    test_loss = 0.\n",
        "    accuracy = 0.\n",
        "    class_correct = list(0. for i in range(len(classes)))\n",
        "    class_total = list(0. for i in range(len(classes)))\n",
        "\n",
        "    model.eval()\n",
        "\n",
        "    with torch.no_grad():\n",
        "        for image, label in testloader:\n",
        "            image = image.to(device)\n",
        "            label = label.to(device)\n",
        "\n",
        "            output = model(image)\n",
        "            test_loss += criterion(output,label).item()\n",
        "\n",
        "            ps = torch.exp(output)\n",
        "            eq = (label.data == ps.max(dim=1)[1])\n",
        "            for i in range(batch_size):\n",
        "                lb = label.data[i]\n",
        "                class_correct[lb] += eq[i].item()\n",
        "                class_total[lb] += 1\n",
        "\n",
        "    for i in range(len(classes)):\n",
        "      if class_total[i] > 0:\n",
        "          print('Test Accuracy of %5s: %2d%% (%2d/%2d)' % (\n",
        "              classes[i], 100 * class_correct[i] / class_total[i],\n",
        "              np.sum(class_correct[i]), np.sum(class_total[i])))\n",
        "      else:\n",
        "          print('Test Accuracy of %5s: N/A (no training examples)' % (classes[i]))\n",
        "\n",
        "        \n",
        "    print('\\nTest Accuracy (Overall): %2d%% (%2d/%2d)' % (\n",
        "        100. * np.sum(class_correct) / np.sum(class_total),\n",
        "        np.sum(class_correct), np.sum(class_total)))\n",
        "    for i in range(len(classes)):\n",
        "      class_correct[i] = class_correct[i]/class_total[i]\n",
        "\n",
        "    return class_correct\n"
      ],
      "execution_count": 0,
      "outputs": []
    },
    {
      "cell_type": "code",
      "metadata": {
        "id": "K_yEV_AI9RP_",
        "colab_type": "code",
        "colab": {
          "base_uri": "https://localhost:8080/",
          "height": 249
        },
        "outputId": "f0b5a75f-b948-468d-83e6-ceba9829b854"
      },
      "source": [
        "model = cache['model']\n",
        "\n",
        "correct = validation(model, testloader, classes, batch_size)"
      ],
      "execution_count": 11,
      "outputs": [
        {
          "output_type": "stream",
          "text": [
            "Test Accuracy of 0 - zero: 99% (5915/5923)\n",
            "Test Accuracy of 1 - one: 99% (6721/6742)\n",
            "Test Accuracy of 2 - two: 99% (5933/5958)\n",
            "Test Accuracy of 3 - three: 99% (6093/6131)\n",
            "Test Accuracy of 4 - four: 99% (5812/5842)\n",
            "Test Accuracy of 5 - five: 99% (5373/5421)\n",
            "Test Accuracy of 6 - six: 99% (5894/5918)\n",
            "Test Accuracy of 7 - seven: 99% (6218/6265)\n",
            "Test Accuracy of 8 - eight: 99% (5802/5851)\n",
            "Test Accuracy of 9 - nine: 99% (5904/5949)\n",
            "\n",
            "Test Accuracy (Overall): 99% (59665/60000)\n"
          ],
          "name": "stdout"
        }
      ]
    },
    {
      "cell_type": "code",
      "metadata": {
        "id": "nTu-AmPKBkBN",
        "colab_type": "code",
        "colab": {}
      },
      "source": [
        "def visualize_accuracy(correct, classes):\n",
        "\n",
        "    fig, ax = plt.subplots(figsize=(10,12))\n",
        "    ax.set_aspect(0.05)\n",
        "    ax.barh(np.arange(10), correct, align='center')\n",
        "    ax.set_yticks(np.arange(10))\n",
        "    ax.set_yticklabels(classes, size='medium')\n",
        "    ax.invert_yaxis()\n",
        "    ax.set_xlabel('Class probability', fontsize='medium')\n",
        "    ax.set_xlim(0, 1.)\n",
        "    ax.set_title('Validation accuracy for each class')\n",
        "    plt.tight_layout()\n"
      ],
      "execution_count": 0,
      "outputs": []
    },
    {
      "cell_type": "code",
      "metadata": {
        "id": "Hyql0vl_BnNk",
        "colab_type": "code",
        "colab": {
          "base_uri": "https://localhost:8080/",
          "height": 421
        },
        "outputId": "d3f95028-0d28-471e-9b29-2a1bfd3d1cda"
      },
      "source": [
        "visualize_accuracy(correct,classes)"
      ],
      "execution_count": 13,
      "outputs": [
        {
          "output_type": "display_data",
          "data": {
            "image/png": "[encoded data removed]",
            "text/plain": [
              "<Figure size 720x864 with 1 Axes>"
            ]
          },
          "metadata": {
            "tags": [],
            "needs_background": "light"
          }
        }
      ]
    },
    {
      "cell_type": "code",
      "metadata": {
        "id": "CPNEmtSLGmMO",
        "colab_type": "code",
        "colab": {}
      },
      "source": [
        "def visualize_image():\n",
        "    model.eval()\n",
        "\n",
        "    image, label = iter(testloader).next()\n",
        "    image = image.to(device)\n",
        "\n",
        "    with torch.no_grad():\n",
        "        output = model(image)\n",
        "    ps = torch.exp(output)\n",
        "    ps = ps.max(dim=1)[1]\n",
        "    image = image.cpu().numpy()\n",
        "\n",
        "    fig = plt.figure(figsize=(25,4))\n",
        "    for idx in np.arange(batch_size):\n",
        "        ax = plt.subplot(2, batch_size/2, idx+1, xticks=[], yticks=[])\n",
        "        ax.imshow(np.squeeze(images[idx]), cmap='gray')\n",
        "        ax.set_title(\"{} ({})\".format(classes[ps[idx]], classes[label[idx]]),\n",
        "                    color=(\"green\" if ps[idx]==label[idx] else \"red\"))"
      ],
      "execution_count": 0,
      "outputs": []
    },
    {
      "cell_type": "code",
      "metadata": {
        "id": "IeB9MFAWJ6m5",
        "colab_type": "code",
        "colab": {
          "base_uri": "https://localhost:8080/",
          "height": 187
        },
        "outputId": "ab3ed53a-3af7-4440-f617-28c0a7109452"
      },
      "source": [
        "visualize_image()"
      ],
      "execution_count": 15,
      "outputs": [
        {
          "output_type": "display_data",
          "data": {
            "image/png": "[encoded data removed]",
            "text/plain": [
              "<Figure size 1800x288 with 20 Axes>"
            ]
          },
          "metadata": {
            "tags": []
          }
        }
      ]
    },
    {
      "cell_type": "code",
      "metadata": {
        "id": "DRhdA6BCKEx0",
        "colab_type": "code",
        "colab": {}
      },
      "source": [
        ""
      ],
      "execution_count": 0,
      "outputs": []
    }
  ]
}